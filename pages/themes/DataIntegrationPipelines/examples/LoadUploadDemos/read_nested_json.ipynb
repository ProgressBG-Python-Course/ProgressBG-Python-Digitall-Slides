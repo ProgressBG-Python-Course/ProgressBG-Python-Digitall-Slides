{
 "cells": [
  {
   "cell_type": "code",
   "execution_count": 42,
   "metadata": {},
   "outputs": [],
   "source": [
    "import pandas as pd\n",
    "import json"
   ]
  },
  {
   "cell_type": "markdown",
   "metadata": {},
   "source": [
    "# Parsing nested JSON\n",
    "\n",
    "When working with JSON data in Python, it's common to encounter nested structures. \n",
    "But pandas DataFrame are inherently two-dimensional, so we must flatten nested JSON objects into a flat table.\n",
    "\n",
    "We can approach this by:\n",
    "- python's list comprehensions or map() function\n",
    "- [pd.json_normalize()](https://pandas.pydata.org/pandas-docs/stable/reference/api/pandas.json_normalize.html) function which normalize semi-structured JSON data into a flat table.\n",
    "\n",
    "## Example\n",
    "\n",
    "Let's have next JSON data:"
   ]
  },
  {
   "cell_type": "code",
   "execution_count": 43,
   "metadata": {},
   "outputs": [],
   "source": [
    "json_data = '''\n",
    "{\n",
    "  \"employees\": [\n",
    "    {\n",
    "      \"name\": \"Ivan Ivanov\",\n",
    "      \"email\": \"ivan@example.com\",\n",
    "      \"job\": {\n",
    "        \"title\": \"Analyst\",\n",
    "        \"department\": \"Finance\"\n",
    "      }\n",
    "    },\n",
    "    {\n",
    "      \"name\": \"Maria Popova\",\n",
    "      \"email\": \"maria@example.com\",\n",
    "      \"job\": {\n",
    "        \"title\": \"Engineer\",\n",
    "        \"department\": \"Development\"\n",
    "      }\n",
    "    }\n",
    "  ]\n",
    "}\n",
    "'''"
   ]
  },
  {
   "cell_type": "markdown",
   "metadata": {},
   "source": [
    "### Manual parsing"
   ]
  },
  {
   "cell_type": "code",
   "execution_count": 44,
   "metadata": {},
   "outputs": [
    {
     "data": {
      "text/html": [
       "<div>\n",
       "<style scoped>\n",
       "    .dataframe tbody tr th:only-of-type {\n",
       "        vertical-align: middle;\n",
       "    }\n",
       "\n",
       "    .dataframe tbody tr th {\n",
       "        vertical-align: top;\n",
       "    }\n",
       "\n",
       "    .dataframe thead th {\n",
       "        text-align: right;\n",
       "    }\n",
       "</style>\n",
       "<table border=\"1\" class=\"dataframe\">\n",
       "  <thead>\n",
       "    <tr style=\"text-align: right;\">\n",
       "      <th></th>\n",
       "      <th>name</th>\n",
       "      <th>email</th>\n",
       "      <th>job_title</th>\n",
       "      <th>department</th>\n",
       "    </tr>\n",
       "  </thead>\n",
       "  <tbody>\n",
       "    <tr>\n",
       "      <th>0</th>\n",
       "      <td>Ivan Ivanov</td>\n",
       "      <td>ivan@example.com</td>\n",
       "      <td>Analyst</td>\n",
       "      <td>Finance</td>\n",
       "    </tr>\n",
       "    <tr>\n",
       "      <th>1</th>\n",
       "      <td>Maria Popova</td>\n",
       "      <td>maria@example.com</td>\n",
       "      <td>Engineer</td>\n",
       "      <td>Development</td>\n",
       "    </tr>\n",
       "  </tbody>\n",
       "</table>\n",
       "</div>"
      ],
      "text/plain": [
       "           name              email job_title   department\n",
       "0   Ivan Ivanov   ivan@example.com   Analyst      Finance\n",
       "1  Maria Popova  maria@example.com  Engineer  Development"
      ]
     },
     "execution_count": 44,
     "metadata": {},
     "output_type": "execute_result"
    }
   ],
   "source": [
    "raw_data = json.loads(json_data)\n",
    "\n",
    "data = [\n",
    "    [r['name'],r['email'],r['job']['title'], r['job']['department']]\n",
    "    for r in raw_data['employees']\n",
    "]\n",
    "columns = ['name', 'email', 'job_title', 'department']\n",
    "df = pd.DataFrame(data, columns=columns)\n",
    "df"
   ]
  },
  {
   "cell_type": "markdown",
   "metadata": {},
   "source": [
    "### With pd.json_normalize()"
   ]
  },
  {
   "cell_type": "code",
   "execution_count": 45,
   "metadata": {},
   "outputs": [
    {
     "data": {
      "text/html": [
       "<div>\n",
       "<style scoped>\n",
       "    .dataframe tbody tr th:only-of-type {\n",
       "        vertical-align: middle;\n",
       "    }\n",
       "\n",
       "    .dataframe tbody tr th {\n",
       "        vertical-align: top;\n",
       "    }\n",
       "\n",
       "    .dataframe thead th {\n",
       "        text-align: right;\n",
       "    }\n",
       "</style>\n",
       "<table border=\"1\" class=\"dataframe\">\n",
       "  <thead>\n",
       "    <tr style=\"text-align: right;\">\n",
       "      <th></th>\n",
       "      <th>name</th>\n",
       "      <th>email</th>\n",
       "      <th>job_title</th>\n",
       "      <th>job_department</th>\n",
       "    </tr>\n",
       "  </thead>\n",
       "  <tbody>\n",
       "    <tr>\n",
       "      <th>0</th>\n",
       "      <td>Ivan Ivanov</td>\n",
       "      <td>ivan@example.com</td>\n",
       "      <td>Analyst</td>\n",
       "      <td>Finance</td>\n",
       "    </tr>\n",
       "    <tr>\n",
       "      <th>1</th>\n",
       "      <td>Maria Popova</td>\n",
       "      <td>maria@example.com</td>\n",
       "      <td>Engineer</td>\n",
       "      <td>Development</td>\n",
       "    </tr>\n",
       "  </tbody>\n",
       "</table>\n",
       "</div>"
      ],
      "text/plain": [
       "           name              email job_title job_department\n",
       "0   Ivan Ivanov   ivan@example.com   Analyst        Finance\n",
       "1  Maria Popova  maria@example.com  Engineer    Development"
      ]
     },
     "execution_count": 45,
     "metadata": {},
     "output_type": "execute_result"
    }
   ],
   "source": [
    "data = json.loads(json_data)\n",
    "df = pd.json_normalize(\n",
    "    data['employees'],\n",
    "    sep='_'\n",
    ")\n",
    "df"
   ]
  },
  {
   "cell_type": "markdown",
   "metadata": {},
   "source": [
    "## Using pd.json_normalize()\n",
    "\n",
    "### Overview\n",
    "`pd.json_normalize()` offers a bridge to flatten nested JSON objects into a flat table.\n",
    "\n",
    "Key parametrs are:\n",
    "\n",
    "- **data**: The input data to normalize. This can be a list of dicts, a dict of lists, or a deep nested dict.\n",
    "- **record_path**: Specifies the path to the data within a nested JSON structure that you want to flatten.\n",
    "- **meta**: Additional data to be included at the top level of each record. Useful for including metadata.\n",
    "- **meta_prefix**: A prefix for the meta fields, helping to avoid column name collisions and clarify the DataFrame's structure.\n",
    "- **record_prefix**: A prefix for the fields from the record_path, distinguishing them from other data in the DataFrame.\n",
    "- **errors**: Controls how to handle missing keys in nested data. Options include 'raise', 'ignore', and 'default'.\n",
    "- **sep**: Specifies the separator used when joining nested keys. The default is '.'."
   ]
  },
  {
   "cell_type": "markdown",
   "metadata": {},
   "source": [
    "### Example 1: Basic Usage\n",
    "\n",
    "The basic use case of pd.json_normalize involves flattening a simple nested JSON object into a pandas DataFrame. \n",
    "\n",
    "Consider the following example with a list of people, where each person has basic information nested under an info key."
   ]
  },
  {
   "cell_type": "code",
   "execution_count": 54,
   "metadata": {},
   "outputs": [
    {
     "data": {
      "text/html": [
       "<div>\n",
       "<style scoped>\n",
       "    .dataframe tbody tr th:only-of-type {\n",
       "        vertical-align: middle;\n",
       "    }\n",
       "\n",
       "    .dataframe tbody tr th {\n",
       "        vertical-align: top;\n",
       "    }\n",
       "\n",
       "    .dataframe thead th {\n",
       "        text-align: right;\n",
       "    }\n",
       "</style>\n",
       "<table border=\"1\" class=\"dataframe\">\n",
       "  <thead>\n",
       "    <tr style=\"text-align: right;\">\n",
       "      <th></th>\n",
       "      <th>id</th>\n",
       "      <th>name</th>\n",
       "      <th>info.age</th>\n",
       "      <th>info.city</th>\n",
       "    </tr>\n",
       "  </thead>\n",
       "  <tbody>\n",
       "    <tr>\n",
       "      <th>0</th>\n",
       "      <td>1</td>\n",
       "      <td>Ivan Petrov</td>\n",
       "      <td>28</td>\n",
       "      <td>Sofia</td>\n",
       "    </tr>\n",
       "    <tr>\n",
       "      <th>1</th>\n",
       "      <td>2</td>\n",
       "      <td>Maria Georgieva</td>\n",
       "      <td>34</td>\n",
       "      <td>Plovdiv</td>\n",
       "    </tr>\n",
       "  </tbody>\n",
       "</table>\n",
       "</div>"
      ],
      "text/plain": [
       "   id             name  info.age info.city\n",
       "0   1      Ivan Petrov        28     Sofia\n",
       "1   2  Maria Georgieva        34   Plovdiv"
      ]
     },
     "execution_count": 54,
     "metadata": {},
     "output_type": "execute_result"
    }
   ],
   "source": [
    "data = [\n",
    "    {\"id\": 1, \"name\": \"Ivan Petrov\", \"info\": {\"age\": 28, \"city\": \"Sofia\"}},\n",
    "    {\"id\": 2, \"name\": \"Maria Georgieva\", \"info\": {\"age\": 34, \"city\": \"Plovdiv\"}},\n",
    "]\n",
    "\n",
    "# Flatten the JSON data\n",
    "df = pd.json_normalize(data)\n",
    "df\n"
   ]
  },
  {
   "cell_type": "markdown",
   "metadata": {},
   "source": [
    "### Example 2: Handling Nested Structures (using record_path)\n",
    "\n",
    "When dealing with more complex nested structures, you can use the record_path to specify how you want the data to be flattened.\n",
    "\n",
    "Consider a dataset where each person also has a list of friends, with each friend having their own set of information:"
   ]
  },
  {
   "cell_type": "code",
   "execution_count": 134,
   "metadata": {},
   "outputs": [
    {
     "data": {
      "text/html": [
       "<div>\n",
       "<style scoped>\n",
       "    .dataframe tbody tr th:only-of-type {\n",
       "        vertical-align: middle;\n",
       "    }\n",
       "\n",
       "    .dataframe tbody tr th {\n",
       "        vertical-align: top;\n",
       "    }\n",
       "\n",
       "    .dataframe thead th {\n",
       "        text-align: right;\n",
       "    }\n",
       "</style>\n",
       "<table border=\"1\" class=\"dataframe\">\n",
       "  <thead>\n",
       "    <tr style=\"text-align: right;\">\n",
       "      <th></th>\n",
       "      <th>name</th>\n",
       "      <th>age</th>\n",
       "    </tr>\n",
       "  </thead>\n",
       "  <tbody>\n",
       "    <tr>\n",
       "      <th>0</th>\n",
       "      <td>Dimitar Dimitrov</td>\n",
       "      <td>30</td>\n",
       "    </tr>\n",
       "    <tr>\n",
       "      <th>1</th>\n",
       "      <td>Stefan Ivanov</td>\n",
       "      <td>26</td>\n",
       "    </tr>\n",
       "  </tbody>\n",
       "</table>\n",
       "</div>"
      ],
      "text/plain": [
       "               name  age\n",
       "0  Dimitar Dimitrov   30\n",
       "1     Stefan Ivanov   26"
      ]
     },
     "execution_count": 134,
     "metadata": {},
     "output_type": "execute_result"
    }
   ],
   "source": [
    "data = [\n",
    "    {\n",
    "        \"id\": 1,\n",
    "        \"name\": \"Ivan Petrov\",\n",
    "        \"info\": {\n",
    "            \"age\": 28,\n",
    "            \"city\": \"Sofia\",\n",
    "            \"friends\": [\n",
    "                {\"name\": \"Dimitar Dimitrov\", \"age\": 30},\n",
    "                {\"name\": \"Stefan Ivanov\", \"age\": 26}\n",
    "            ]\n",
    "        }\n",
    "    }\n",
    "]\n",
    "\n",
    "# Flatten focusing of \"friends\" data:\n",
    "df = pd.json_normalize(\n",
    "    data = data,\n",
    "    record_path=[\"info\", \"friends\"], # Path to the nested list to be expanded.\n",
    "    errors='ignore'\n",
    ")\n",
    "df\n"
   ]
  },
  {
   "cell_type": "markdown",
   "metadata": {},
   "source": [
    "### Example 3: Handling Nested Structures (using record_path, meta and prefixes)\n",
    "\n"
   ]
  },
  {
   "cell_type": "code",
   "execution_count": 145,
   "metadata": {},
   "outputs": [
    {
     "data": {
      "text/html": [
       "<div>\n",
       "<style scoped>\n",
       "    .dataframe tbody tr th:only-of-type {\n",
       "        vertical-align: middle;\n",
       "    }\n",
       "\n",
       "    .dataframe tbody tr th {\n",
       "        vertical-align: top;\n",
       "    }\n",
       "\n",
       "    .dataframe thead th {\n",
       "        text-align: right;\n",
       "    }\n",
       "</style>\n",
       "<table border=\"1\" class=\"dataframe\">\n",
       "  <thead>\n",
       "    <tr style=\"text-align: right;\">\n",
       "      <th></th>\n",
       "      <th>person_name</th>\n",
       "      <th>person_age</th>\n",
       "      <th>friend_name</th>\n",
       "      <th>friend_age</th>\n",
       "    </tr>\n",
       "  </thead>\n",
       "  <tbody>\n",
       "    <tr>\n",
       "      <th>0</th>\n",
       "      <td>Ivan Petrov</td>\n",
       "      <td>28</td>\n",
       "      <td>Dimitar Dimitrov</td>\n",
       "      <td>30</td>\n",
       "    </tr>\n",
       "    <tr>\n",
       "      <th>1</th>\n",
       "      <td>Ivan Petrov</td>\n",
       "      <td>28</td>\n",
       "      <td>Stefan Ivanov</td>\n",
       "      <td>26</td>\n",
       "    </tr>\n",
       "  </tbody>\n",
       "</table>\n",
       "</div>"
      ],
      "text/plain": [
       "   person_name person_age       friend_name  friend_age\n",
       "0  Ivan Petrov         28  Dimitar Dimitrov          30\n",
       "1  Ivan Petrov         28     Stefan Ivanov          26"
      ]
     },
     "execution_count": 145,
     "metadata": {},
     "output_type": "execute_result"
    }
   ],
   "source": [
    "data = [\n",
    "    {\n",
    "        \"id\": 1,\n",
    "        \"name\": \"Ivan Petrov\",\n",
    "        \"info\": {\n",
    "            \"age\": 28,\n",
    "            \"city\": \"Sofia\",\n",
    "            \"friends\": [\n",
    "                {\"name\": \"Dimitar Dimitrov\", \"age\": 30},\n",
    "                {\"name\": \"Stefan Ivanov\", \"age\": 26}\n",
    "            ]\n",
    "        }\n",
    "    }\n",
    "]\n",
    "\n",
    "df = pd.json_normalize(\n",
    "    data,\n",
    "    record_path=[\"info\", \"friends\"],  # Path to the nested list to be expanded.\n",
    "    meta=[\n",
    "        \"name\",  # Top-level field to include as metadata.\n",
    "        [\"info\", \"age\"],  # Nested field to include as metadata, specified with its path.\n",
    "    ],\n",
    "    record_prefix='friend_',  # Prefix for the columns resulting from the record_path's list.\n",
    "    meta_prefix=\"person_\",  # Prefix for the columns resulting from the metadata to clearly differentiate them.\n",
    "    sep='_',  # Separator used between nested names and prefixes, ensuring clarity in the resulting column names.\n",
    "    errors='ignore'  # If any specified meta path is not found in a record, the function will ignore this and proceed without an error.\n",
    ")\n",
    "\n",
    "### Manualy reorder the columns:\n",
    "columns_ordered = ['person_name', 'person_age', 'friend_name', 'friend_age']\n",
    "# rename person_info_age:\n",
    "df = df.rename(columns={\n",
    "    'person_info_age': 'person_age'\n",
    "})\n",
    "\n",
    "# now,reorder the columns\n",
    "df = df[columns_ordered]\n",
    "\n",
    "df\n"
   ]
  },
  {
   "cell_type": "markdown",
   "metadata": {},
   "source": [
    "The manual approach (using list comprehensions) is more flexible. \n",
    "We can explicitelly specify the which data to be extracted and their order in resulting table:"
   ]
  },
  {
   "cell_type": "code",
   "execution_count": 146,
   "metadata": {},
   "outputs": [
    {
     "data": {
      "text/html": [
       "<div>\n",
       "<style scoped>\n",
       "    .dataframe tbody tr th:only-of-type {\n",
       "        vertical-align: middle;\n",
       "    }\n",
       "\n",
       "    .dataframe tbody tr th {\n",
       "        vertical-align: top;\n",
       "    }\n",
       "\n",
       "    .dataframe thead th {\n",
       "        text-align: right;\n",
       "    }\n",
       "</style>\n",
       "<table border=\"1\" class=\"dataframe\">\n",
       "  <thead>\n",
       "    <tr style=\"text-align: right;\">\n",
       "      <th></th>\n",
       "      <th>person_name</th>\n",
       "      <th>person_age</th>\n",
       "      <th>friend_name</th>\n",
       "      <th>friend_age</th>\n",
       "    </tr>\n",
       "  </thead>\n",
       "  <tbody>\n",
       "    <tr>\n",
       "      <th>0</th>\n",
       "      <td>Ivan Petrov</td>\n",
       "      <td>28</td>\n",
       "      <td>Dimitar Dimitrov</td>\n",
       "      <td>30</td>\n",
       "    </tr>\n",
       "    <tr>\n",
       "      <th>1</th>\n",
       "      <td>Ivan Petrov</td>\n",
       "      <td>28</td>\n",
       "      <td>Stefan Ivanov</td>\n",
       "      <td>26</td>\n",
       "    </tr>\n",
       "  </tbody>\n",
       "</table>\n",
       "</div>"
      ],
      "text/plain": [
       "   person_name  person_age       friend_name  friend_age\n",
       "0  Ivan Petrov          28  Dimitar Dimitrov          30\n",
       "1  Ivan Petrov          28     Stefan Ivanov          26"
      ]
     },
     "execution_count": 146,
     "metadata": {},
     "output_type": "execute_result"
    }
   ],
   "source": [
    "data = [\n",
    "    {\n",
    "        \"id\": 1,\n",
    "        \"name\": \"Ivan Petrov\",\n",
    "        \"info\": {\n",
    "            \"age\": 28,\n",
    "            \"city\": \"Sofia\",\n",
    "            \"friends\": [\n",
    "                {\"name\": \"Dimitar Dimitrov\", \"age\": 30},\n",
    "                {\"name\": \"Stefan Ivanov\", \"age\": 26}\n",
    "            ]\n",
    "        }\n",
    "    }\n",
    "]\n",
    "\n",
    "rows = [\n",
    "        [row['name'], row['info']['age'], friend['name'], friend['age']]\n",
    "            for row in data\n",
    "                for friend in row['info']['friends']\n",
    "]\n",
    "columns = ['person_name', 'person_age', 'friend_name', 'friend_age']\n",
    "\n",
    "df = pd.DataFrame(rows, columns=columns)\n",
    "df"
   ]
  },
  {
   "cell_type": "code",
   "execution_count": null,
   "metadata": {},
   "outputs": [],
   "source": []
  }
 ],
 "metadata": {
  "kernelspec": {
   "display_name": ".venv",
   "language": "python",
   "name": "python3"
  },
  "language_info": {
   "name": "python",
   "version": "3.12.0"
  }
 },
 "nbformat": 4,
 "nbformat_minor": 2
}
