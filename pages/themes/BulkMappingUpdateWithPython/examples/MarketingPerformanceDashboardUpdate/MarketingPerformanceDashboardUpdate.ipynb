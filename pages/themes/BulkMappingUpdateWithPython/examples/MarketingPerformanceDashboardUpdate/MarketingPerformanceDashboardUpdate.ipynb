{
 "cells": [
  {
   "cell_type": "code",
   "execution_count": 289,
   "metadata": {},
   "outputs": [],
   "source": [
    "import requests\n",
    "import json\n",
    "import pandas as pd\n",
    "import numpy as np"
   ]
  },
  {
   "cell_type": "markdown",
   "metadata": {},
   "source": [
    "# Scenario: Marketing Performance Dashboard Update\n",
    "\n",
    "The marketing team at a large company uses multiple channels for their campaigns: social media (Facebook), their website, email campaigns, and paid search (Google Ads). They aim to aggregate and analyze data from these channels to provide insights into overall marketing performance.\n",
    "\n",
    "\n",
    "\n",
    "## Data Description:\n",
    "\n",
    "1. **Social Media Engagement (Facebook Graph API)**:\n",
    "   - **Endpoint**: `GET './API/FacebookGraphAPI.json' `\n",
    "   - **Data**: Collects post impressions, reach, likes, comments, and shares.\n",
    "   - **Example Response**:\n",
    "     ```json\n",
    "     {\n",
    "       \"data\": [\n",
    "         {\"date\": \"2023-01-01\", \"post_impressions\": 10000, \"post_reach\": 7500, \"likes\": 1200, \"comments\": 150, \"shares\": 100},\n",
    "         {\"date\": \"2023-01-02\", \"post_impressions\": 9500, \"post_reach\": 7000, \"likes\": 1100, \"comments\": 140, \"shares\": 90}\n",
    "       ]\n",
    "     }\n",
    "     ```\n",
    "\n",
    "2. **Website Traffic (Google Analytics API)**:\n",
    "   - **Endpoint**: `GET './API/GoogleAnalyticsAPI.json'`\n",
    "   - **Data**: Sessions, pageviews, and users.\n",
    "   - **Example Response**:\n",
    "     ```json\n",
    "     {\n",
    "       \"reports\": [\n",
    "         {\n",
    "           \"data\": {\n",
    "             \"rows\": [\n",
    "               {\"dimensions\": [\"20230101\"], \"metrics\": [{\"values\": [\"1000\", \"3000\", \"900\"]}]},\n",
    "               {\"dimensions\": [\"20230102\"], \"metrics\": [{\"values\": [\"950\", \"2800\", \"850\"]}]}\n",
    "             ]\n",
    "           }\n",
    "         }\n",
    "       ]\n",
    "     }\n",
    "     ```\n",
    "\n",
    "3. **Email Campaign Performance (Mailchimp API)**:\n",
    "   - **Endpoint**: `GET './API/MailchimpAPI.json'`\n",
    "   - **Data**: Emails sent, opens, clicks, bounces, and unsubscribes.\n",
    "   - **Example Response**:\n",
    "     ```json\n",
    "     {\n",
    "       \"campaigns\": [\n",
    "         {\"id\": \"campaign_001\", \"emails_sent\": 5000, \"opens\": 3500, \"clicks\": 1750, \"bounce\": 50, \"unsubscribe\": 25},\n",
    "         {\"id\": \"campaign_002\", \"emails_sent\": 4500, \"opens\": 3200, \"clicks\": 1600, \"bounce\": 40, \"unsubscribe\": 20}\n",
    "       ]\n",
    "     }\n",
    "     ```\n",
    "\n",
    "4. **Paid Search Metrics (Google Ads API)**:\n",
    "   - **Endpoint**: `GET './API/GoogleAdsAPI.json'`\n",
    "   - **Data**: Impressions, clicks, cost, and conversions.\n",
    "   - **Example Response**:\n",
    "     ```json\n",
    "     {\n",
    "       \"reports\": [\n",
    "         {\"campaignId\": \"78910\", \"date\": \"2023-01-01\", \"impressions\": 12000, \"clicks\": 800, \"cost\": 600.00, \"conversions\": 80},\n",
    "         {\"campaignId\": \"78911\", \"date\": \"2023-01-02\", \"impressions\": 11500, \"clicks\": 750, \"cost\": 580.00, \"conversions\": 75}\n",
    "       ]\n",
    "     }\n",
    "     ```"
   ]
  },
  {
   "cell_type": "markdown",
   "metadata": {},
   "source": [
    "## Fetching data\n",
    "\n",
    "Let's define a function that will fetches data from API endpoint, which returns JSON data."
   ]
  },
  {
   "cell_type": "code",
   "execution_count": 290,
   "metadata": {},
   "outputs": [],
   "source": [
    "def fetch_json_data(endpoint_url):\n",
    "    \"\"\"\n",
    "    Fetches data from API endpoint using the requests library.\n",
    "\n",
    "    Parameters:\n",
    "    - endpoint_url (str): The URL of the API endpoint.\n",
    "\n",
    "    Returns:\n",
    "    - data (dict): The JSON data fetched from the endpoint.\n",
    "    \"\"\"\n",
    "    try:\n",
    "        response = requests.get(endpoint_url)\n",
    "        response.raise_for_status()  # Raises an HTTPError if the response status code is 4XX/5XX\n",
    "        data = response.json()\n",
    "        return data\n",
    "    except requests.HTTPError as http_err:\n",
    "        print(f\"HTTP error occurred: {http_err}\")\n",
    "    except requests.ConnectionError as conn_err:\n",
    "        print(f\"Connection error occurred: {conn_err}\")\n",
    "    except Exception as e:\n",
    "        print(f\"An unexpected error occurred: {e}\")"
   ]
  },
  {
   "cell_type": "code",
   "execution_count": 291,
   "metadata": {},
   "outputs": [
    {
     "name": "stdout",
     "output_type": "stream",
     "text": [
      "Data fetched successfully: {'data': [{'date': '2023-01-01', 'page_id': '123456789', 'post_impressions': 10000, 'post_reach': 7500, 'likes': 1200, 'comments': 150, 'shares': 100}, {'date': '2023-01-02', 'page_id': '123456789', 'post_impressions': 9500, 'post_reach': 7000, 'likes': 1100, 'comments': 140, 'shares': 90}]}\n"
     ]
    }
   ],
   "source": [
    "# URL to the server endpoint serving the Facebook Graph API JSON\n",
    "endpoint_url = 'https://raw.githubusercontent.com/ProgressBG-Python-Course/ProgressBG-Python-Digitall-Slides/gh-pages/pages/themes/BulkMappingUpdateWithPython/examples/MarketingPerformanceDashboardUpdate/API/FacebookGraphAPI.json'\n",
    "\n",
    "# Fetch the data\n",
    "facebook_data = fetch_json_data(endpoint_url)\n",
    "\n",
    "# Check if data was successfully fetched\n",
    "if facebook_data:\n",
    "    print(\"Data fetched successfully:\", facebook_data)\n",
    "else:\n",
    "    print(\"Failed to fetch data.\")"
   ]
  },
  {
   "cell_type": "code",
   "execution_count": 292,
   "metadata": {},
   "outputs": [
    {
     "name": "stdout",
     "output_type": "stream",
     "text": [
      "Data fetched successfully: {'reports': [{'campaignId': '78910', 'date': '2023-01-01', 'impressions': 12000, 'clicks': '800', 'cost': 600.0, 'conversions': 80}, {'campaignId': '78911', 'date': '2023-01-02', 'impressions': 11500, 'clicks': '750', 'cost': 580.0, 'conversions': 75}, {'campaignId': '78912', 'date': '2023-01-03', 'impressions': 10000, 'clicks': '600', 'cost': 500.0, 'conversions': 70}]}\n"
     ]
    }
   ],
   "source": [
    "# URL to the server endpoint serving the Google Ads API JSON\n",
    "endpoint_url = 'https://raw.githubusercontent.com/ProgressBG-Python-Course/ProgressBG-Python-Digitall-Slides/gh-pages/pages/themes/BulkMappingUpdateWithPython/examples/MarketingPerformanceDashboardUpdate/API/GoogleAdsAPI.json'\n",
    "\n",
    "# Fetch the data\n",
    "google_ads_data = fetch_json_data(endpoint_url)\n",
    "\n",
    "# Check if data was successfully fetched\n",
    "if google_ads_data:\n",
    "    print(\"Data fetched successfully:\", google_ads_data)\n",
    "else:\n",
    "    print(\"Failed to fetch data.\")"
   ]
  },
  {
   "cell_type": "code",
   "execution_count": 293,
   "metadata": {},
   "outputs": [
    {
     "name": "stdout",
     "output_type": "stream",
     "text": [
      "Data fetched successfully: {'reports': [{'columnHeader': {'dimensions': ['ga:date'], 'metricHeader': {'metricHeaderEntries': [{'name': 'ga:sessions'}, {'name': 'ga:pageviews'}, {'name': 'ga:users'}]}}, 'data': {'rows': [{'dimensions': ['20230101'], 'metrics': [{'values': ['1000', '3000', '900']}]}, {'dimensions': ['20230102'], 'metrics': [{'values': ['950', '2800', '850']}]}]}}]}\n"
     ]
    }
   ],
   "source": [
    "# URL to the server endpoint serving the Google Analytics API JSON\n",
    "endpoint_url = 'https://raw.githubusercontent.com/ProgressBG-Python-Course/ProgressBG-Python-Digitall-Slides/gh-pages/pages/themes/BulkMappingUpdateWithPython/examples/MarketingPerformanceDashboardUpdate/API/GoogleAnalyticsAPI.json'\n",
    "\n",
    "# Fetch the data\n",
    "google_analytics_data = fetch_json_data(endpoint_url)\n",
    "\n",
    "# Check if data was successfully fetched\n",
    "if google_analytics_data:\n",
    "    print(\"Data fetched successfully:\", google_analytics_data)\n",
    "else:\n",
    "    print(\"Failed to fetch data.\")"
   ]
  },
  {
   "cell_type": "code",
   "execution_count": 294,
   "metadata": {},
   "outputs": [
    {
     "name": "stdout",
     "output_type": "stream",
     "text": [
      "Data fetched successfully: {'campaigns': [{'id': 'campaign_001', 'date_sent': '2023-01-01', 'emails_sent': 5000, 'opens': 3500, 'clicks': 1750, 'bounce': 50, 'unsubscribe': 25}, {'id': 'campaign_002', 'date_sent': '2023-01-02', 'emails_sent': 4500, 'opens': 3200, 'clicks': 1600, 'bounce': 40, 'unsubscribe': 20}]}\n"
     ]
    }
   ],
   "source": [
    "# URL to the server endpoint serving the MailchimpAPI JSON\n",
    "endpoint_url = 'https://raw.githubusercontent.com/ProgressBG-Python-Course/ProgressBG-Python-Digitall-Slides/gh-pages/pages/themes/BulkMappingUpdateWithPython/examples/MarketingPerformanceDashboardUpdate/API/MailchimpAPI.json'\n",
    "\n",
    "# Fetch the data\n",
    "mailchimp_data = fetch_json_data(endpoint_url)\n",
    "\n",
    "# Check if data was successfully fetched\n",
    "if mailchimp_data:\n",
    "    print(\"Data fetched successfully:\", mailchimp_data)\n",
    "else:\n",
    "    print(\"Failed to fetch data.\")"
   ]
  },
  {
   "cell_type": "markdown",
   "metadata": {},
   "source": [
    "## Load data"
   ]
  },
  {
   "cell_type": "code",
   "execution_count": 295,
   "metadata": {},
   "outputs": [
    {
     "data": {
      "text/html": [
       "<div>\n",
       "<style scoped>\n",
       "    .dataframe tbody tr th:only-of-type {\n",
       "        vertical-align: middle;\n",
       "    }\n",
       "\n",
       "    .dataframe tbody tr th {\n",
       "        vertical-align: top;\n",
       "    }\n",
       "\n",
       "    .dataframe thead th {\n",
       "        text-align: right;\n",
       "    }\n",
       "</style>\n",
       "<table border=\"1\" class=\"dataframe\">\n",
       "  <thead>\n",
       "    <tr style=\"text-align: right;\">\n",
       "      <th></th>\n",
       "      <th>date</th>\n",
       "      <th>page_id</th>\n",
       "      <th>post_impressions</th>\n",
       "      <th>post_reach</th>\n",
       "      <th>likes</th>\n",
       "      <th>comments</th>\n",
       "      <th>shares</th>\n",
       "    </tr>\n",
       "  </thead>\n",
       "  <tbody>\n",
       "    <tr>\n",
       "      <th>0</th>\n",
       "      <td>2023-01-01</td>\n",
       "      <td>123456789</td>\n",
       "      <td>10000</td>\n",
       "      <td>7500</td>\n",
       "      <td>1200</td>\n",
       "      <td>150</td>\n",
       "      <td>100</td>\n",
       "    </tr>\n",
       "    <tr>\n",
       "      <th>1</th>\n",
       "      <td>2023-01-02</td>\n",
       "      <td>123456789</td>\n",
       "      <td>9500</td>\n",
       "      <td>7000</td>\n",
       "      <td>1100</td>\n",
       "      <td>140</td>\n",
       "      <td>90</td>\n",
       "    </tr>\n",
       "  </tbody>\n",
       "</table>\n",
       "</div>"
      ],
      "text/plain": [
       "         date    page_id  post_impressions  post_reach  likes  comments  \\\n",
       "0  2023-01-01  123456789             10000        7500   1200       150   \n",
       "1  2023-01-02  123456789              9500        7000   1100       140   \n",
       "\n",
       "   shares  \n",
       "0     100  \n",
       "1      90  "
      ]
     },
     "execution_count": 295,
     "metadata": {},
     "output_type": "execute_result"
    }
   ],
   "source": [
    "# Load Facebook data into a Pandas DataFrame\n",
    "if facebook_data:\n",
    "    facebook_df = pd.DataFrame(facebook_data[\"data\"])\n",
    "else:\n",
    "    raise Exception('No data to load')\n",
    "\n",
    "facebook_df"
   ]
  },
  {
   "cell_type": "code",
   "execution_count": 296,
   "metadata": {},
   "outputs": [
    {
     "data": {
      "text/html": [
       "<div>\n",
       "<style scoped>\n",
       "    .dataframe tbody tr th:only-of-type {\n",
       "        vertical-align: middle;\n",
       "    }\n",
       "\n",
       "    .dataframe tbody tr th {\n",
       "        vertical-align: top;\n",
       "    }\n",
       "\n",
       "    .dataframe thead th {\n",
       "        text-align: right;\n",
       "    }\n",
       "</style>\n",
       "<table border=\"1\" class=\"dataframe\">\n",
       "  <thead>\n",
       "    <tr style=\"text-align: right;\">\n",
       "      <th></th>\n",
       "      <th>ga:date</th>\n",
       "      <th>ga:sessions</th>\n",
       "      <th>ga:pageviews</th>\n",
       "      <th>ga:users</th>\n",
       "    </tr>\n",
       "  </thead>\n",
       "  <tbody>\n",
       "    <tr>\n",
       "      <th>0</th>\n",
       "      <td>20230101</td>\n",
       "      <td>1000</td>\n",
       "      <td>3000</td>\n",
       "      <td>900</td>\n",
       "    </tr>\n",
       "    <tr>\n",
       "      <th>1</th>\n",
       "      <td>20230102</td>\n",
       "      <td>950</td>\n",
       "      <td>2800</td>\n",
       "      <td>850</td>\n",
       "    </tr>\n",
       "  </tbody>\n",
       "</table>\n",
       "</div>"
      ],
      "text/plain": [
       "    ga:date ga:sessions ga:pageviews ga:users\n",
       "0  20230101        1000         3000      900\n",
       "1  20230102         950         2800      850"
      ]
     },
     "execution_count": 296,
     "metadata": {},
     "output_type": "execute_result"
    }
   ],
   "source": [
    "# Load GoogleAnalytics data into a Pandas DataFrame\n",
    "\n",
    "# Extracting column names\n",
    "if google_analytics_data:\n",
    "    dimension_names = google_analytics_data['reports'][0]['columnHeader']['dimensions']\n",
    "    metric_names = [\n",
    "        entry['name'] for entry in\n",
    "            google_analytics_data['reports'][0]['columnHeader']['metricHeader']['metricHeaderEntries']\n",
    "    ]\n",
    "    column_names = dimension_names + metric_names\n",
    "\n",
    "    # Extracting data rows\n",
    "    data_rows = []\n",
    "    for row in google_analytics_data['reports'][0]['data']['rows']:\n",
    "        dimensions = row['dimensions']\n",
    "        metrics = row['metrics'][0]['values']\n",
    "        combined_row = dimensions + metrics\n",
    "        data_rows.append(combined_row)\n",
    "\n",
    "    # Creating DataFrame\n",
    "    google_analytics_df = pd.DataFrame(data_rows, columns=column_names)\n",
    "else:\n",
    "    raise Exception('No data to load')\n",
    "\n",
    "google_analytics_df"
   ]
  },
  {
   "cell_type": "code",
   "execution_count": 297,
   "metadata": {},
   "outputs": [
    {
     "data": {
      "text/html": [
       "<div>\n",
       "<style scoped>\n",
       "    .dataframe tbody tr th:only-of-type {\n",
       "        vertical-align: middle;\n",
       "    }\n",
       "\n",
       "    .dataframe tbody tr th {\n",
       "        vertical-align: top;\n",
       "    }\n",
       "\n",
       "    .dataframe thead th {\n",
       "        text-align: right;\n",
       "    }\n",
       "</style>\n",
       "<table border=\"1\" class=\"dataframe\">\n",
       "  <thead>\n",
       "    <tr style=\"text-align: right;\">\n",
       "      <th></th>\n",
       "      <th>campaignId</th>\n",
       "      <th>date</th>\n",
       "      <th>impressions</th>\n",
       "      <th>clicks</th>\n",
       "      <th>cost</th>\n",
       "      <th>conversions</th>\n",
       "    </tr>\n",
       "  </thead>\n",
       "  <tbody>\n",
       "    <tr>\n",
       "      <th>0</th>\n",
       "      <td>78910</td>\n",
       "      <td>2023-01-01</td>\n",
       "      <td>12000</td>\n",
       "      <td>800</td>\n",
       "      <td>600.0</td>\n",
       "      <td>80</td>\n",
       "    </tr>\n",
       "    <tr>\n",
       "      <th>1</th>\n",
       "      <td>78911</td>\n",
       "      <td>2023-01-02</td>\n",
       "      <td>11500</td>\n",
       "      <td>750</td>\n",
       "      <td>580.0</td>\n",
       "      <td>75</td>\n",
       "    </tr>\n",
       "    <tr>\n",
       "      <th>2</th>\n",
       "      <td>78912</td>\n",
       "      <td>2023-01-03</td>\n",
       "      <td>10000</td>\n",
       "      <td>600</td>\n",
       "      <td>500.0</td>\n",
       "      <td>70</td>\n",
       "    </tr>\n",
       "  </tbody>\n",
       "</table>\n",
       "</div>"
      ],
      "text/plain": [
       "  campaignId        date  impressions clicks   cost  conversions\n",
       "0      78910  2023-01-01        12000    800  600.0           80\n",
       "1      78911  2023-01-02        11500    750  580.0           75\n",
       "2      78912  2023-01-03        10000    600  500.0           70"
      ]
     },
     "execution_count": 297,
     "metadata": {},
     "output_type": "execute_result"
    }
   ],
   "source": [
    "# Load GoogleAds data into a Pandas DataFrame\n",
    "if google_ads_data:\n",
    "    google_ads_df = pd.DataFrame(google_ads_data[\"reports\"])\n",
    "else:\n",
    "    raise Exception('No data to load')\n",
    "\n",
    "google_ads_df"
   ]
  },
  {
   "cell_type": "code",
   "execution_count": 298,
   "metadata": {},
   "outputs": [
    {
     "data": {
      "text/html": [
       "<div>\n",
       "<style scoped>\n",
       "    .dataframe tbody tr th:only-of-type {\n",
       "        vertical-align: middle;\n",
       "    }\n",
       "\n",
       "    .dataframe tbody tr th {\n",
       "        vertical-align: top;\n",
       "    }\n",
       "\n",
       "    .dataframe thead th {\n",
       "        text-align: right;\n",
       "    }\n",
       "</style>\n",
       "<table border=\"1\" class=\"dataframe\">\n",
       "  <thead>\n",
       "    <tr style=\"text-align: right;\">\n",
       "      <th></th>\n",
       "      <th>id</th>\n",
       "      <th>date_sent</th>\n",
       "      <th>emails_sent</th>\n",
       "      <th>opens</th>\n",
       "      <th>clicks</th>\n",
       "      <th>bounce</th>\n",
       "      <th>unsubscribe</th>\n",
       "    </tr>\n",
       "  </thead>\n",
       "  <tbody>\n",
       "    <tr>\n",
       "      <th>0</th>\n",
       "      <td>campaign_001</td>\n",
       "      <td>2023-01-01</td>\n",
       "      <td>5000</td>\n",
       "      <td>3500</td>\n",
       "      <td>1750</td>\n",
       "      <td>50</td>\n",
       "      <td>25</td>\n",
       "    </tr>\n",
       "    <tr>\n",
       "      <th>1</th>\n",
       "      <td>campaign_002</td>\n",
       "      <td>2023-01-02</td>\n",
       "      <td>4500</td>\n",
       "      <td>3200</td>\n",
       "      <td>1600</td>\n",
       "      <td>40</td>\n",
       "      <td>20</td>\n",
       "    </tr>\n",
       "  </tbody>\n",
       "</table>\n",
       "</div>"
      ],
      "text/plain": [
       "             id   date_sent  emails_sent  opens  clicks  bounce  unsubscribe\n",
       "0  campaign_001  2023-01-01         5000   3500    1750      50           25\n",
       "1  campaign_002  2023-01-02         4500   3200    1600      40           20"
      ]
     },
     "execution_count": 298,
     "metadata": {},
     "output_type": "execute_result"
    }
   ],
   "source": [
    "# Load Mailchimp data into a Pandas DataFrame\n",
    "if mailchimp_data:\n",
    "    mailchimp_df = pd.DataFrame(mailchimp_data[\"campaigns\"])\n",
    "else:\n",
    "    raise Exception('No data to load')\n",
    "\n",
    "mailchimp_df"
   ]
  },
  {
   "cell_type": "markdown",
   "metadata": {},
   "source": [
    "## Data insights"
   ]
  },
  {
   "cell_type": "code",
   "execution_count": 299,
   "metadata": {},
   "outputs": [
    {
     "data": {
      "text/html": [
       "<div>\n",
       "<style scoped>\n",
       "    .dataframe tbody tr th:only-of-type {\n",
       "        vertical-align: middle;\n",
       "    }\n",
       "\n",
       "    .dataframe tbody tr th {\n",
       "        vertical-align: top;\n",
       "    }\n",
       "\n",
       "    .dataframe thead th {\n",
       "        text-align: right;\n",
       "    }\n",
       "</style>\n",
       "<table border=\"1\" class=\"dataframe\">\n",
       "  <thead>\n",
       "    <tr style=\"text-align: right;\">\n",
       "      <th></th>\n",
       "      <th>date</th>\n",
       "      <th>page_id</th>\n",
       "      <th>post_impressions</th>\n",
       "      <th>post_reach</th>\n",
       "      <th>likes</th>\n",
       "      <th>comments</th>\n",
       "      <th>shares</th>\n",
       "    </tr>\n",
       "  </thead>\n",
       "  <tbody>\n",
       "    <tr>\n",
       "      <th>0</th>\n",
       "      <td>2023-01-01</td>\n",
       "      <td>123456789</td>\n",
       "      <td>10000</td>\n",
       "      <td>7500</td>\n",
       "      <td>1200</td>\n",
       "      <td>150</td>\n",
       "      <td>100</td>\n",
       "    </tr>\n",
       "    <tr>\n",
       "      <th>1</th>\n",
       "      <td>2023-01-02</td>\n",
       "      <td>123456789</td>\n",
       "      <td>9500</td>\n",
       "      <td>7000</td>\n",
       "      <td>1100</td>\n",
       "      <td>140</td>\n",
       "      <td>90</td>\n",
       "    </tr>\n",
       "  </tbody>\n",
       "</table>\n",
       "</div>"
      ],
      "text/plain": [
       "         date    page_id  post_impressions  post_reach  likes  comments  \\\n",
       "0  2023-01-01  123456789             10000        7500   1200       150   \n",
       "1  2023-01-02  123456789              9500        7000   1100       140   \n",
       "\n",
       "   shares  \n",
       "0     100  \n",
       "1      90  "
      ]
     },
     "execution_count": 299,
     "metadata": {},
     "output_type": "execute_result"
    }
   ],
   "source": [
    "facebook_df"
   ]
  },
  {
   "cell_type": "code",
   "execution_count": 300,
   "metadata": {},
   "outputs": [
    {
     "data": {
      "text/html": [
       "<div>\n",
       "<style scoped>\n",
       "    .dataframe tbody tr th:only-of-type {\n",
       "        vertical-align: middle;\n",
       "    }\n",
       "\n",
       "    .dataframe tbody tr th {\n",
       "        vertical-align: top;\n",
       "    }\n",
       "\n",
       "    .dataframe thead th {\n",
       "        text-align: right;\n",
       "    }\n",
       "</style>\n",
       "<table border=\"1\" class=\"dataframe\">\n",
       "  <thead>\n",
       "    <tr style=\"text-align: right;\">\n",
       "      <th></th>\n",
       "      <th>campaignId</th>\n",
       "      <th>date</th>\n",
       "      <th>impressions</th>\n",
       "      <th>clicks</th>\n",
       "      <th>cost</th>\n",
       "      <th>conversions</th>\n",
       "    </tr>\n",
       "  </thead>\n",
       "  <tbody>\n",
       "    <tr>\n",
       "      <th>0</th>\n",
       "      <td>78910</td>\n",
       "      <td>2023-01-01</td>\n",
       "      <td>12000</td>\n",
       "      <td>800</td>\n",
       "      <td>600.0</td>\n",
       "      <td>80</td>\n",
       "    </tr>\n",
       "    <tr>\n",
       "      <th>1</th>\n",
       "      <td>78911</td>\n",
       "      <td>2023-01-02</td>\n",
       "      <td>11500</td>\n",
       "      <td>750</td>\n",
       "      <td>580.0</td>\n",
       "      <td>75</td>\n",
       "    </tr>\n",
       "    <tr>\n",
       "      <th>2</th>\n",
       "      <td>78912</td>\n",
       "      <td>2023-01-03</td>\n",
       "      <td>10000</td>\n",
       "      <td>600</td>\n",
       "      <td>500.0</td>\n",
       "      <td>70</td>\n",
       "    </tr>\n",
       "  </tbody>\n",
       "</table>\n",
       "</div>"
      ],
      "text/plain": [
       "  campaignId        date  impressions clicks   cost  conversions\n",
       "0      78910  2023-01-01        12000    800  600.0           80\n",
       "1      78911  2023-01-02        11500    750  580.0           75\n",
       "2      78912  2023-01-03        10000    600  500.0           70"
      ]
     },
     "execution_count": 300,
     "metadata": {},
     "output_type": "execute_result"
    }
   ],
   "source": [
    "google_ads_df"
   ]
  },
  {
   "cell_type": "code",
   "execution_count": 301,
   "metadata": {},
   "outputs": [
    {
     "data": {
      "text/html": [
       "<div>\n",
       "<style scoped>\n",
       "    .dataframe tbody tr th:only-of-type {\n",
       "        vertical-align: middle;\n",
       "    }\n",
       "\n",
       "    .dataframe tbody tr th {\n",
       "        vertical-align: top;\n",
       "    }\n",
       "\n",
       "    .dataframe thead th {\n",
       "        text-align: right;\n",
       "    }\n",
       "</style>\n",
       "<table border=\"1\" class=\"dataframe\">\n",
       "  <thead>\n",
       "    <tr style=\"text-align: right;\">\n",
       "      <th></th>\n",
       "      <th>ga:date</th>\n",
       "      <th>ga:sessions</th>\n",
       "      <th>ga:pageviews</th>\n",
       "      <th>ga:users</th>\n",
       "    </tr>\n",
       "  </thead>\n",
       "  <tbody>\n",
       "    <tr>\n",
       "      <th>0</th>\n",
       "      <td>20230101</td>\n",
       "      <td>1000</td>\n",
       "      <td>3000</td>\n",
       "      <td>900</td>\n",
       "    </tr>\n",
       "    <tr>\n",
       "      <th>1</th>\n",
       "      <td>20230102</td>\n",
       "      <td>950</td>\n",
       "      <td>2800</td>\n",
       "      <td>850</td>\n",
       "    </tr>\n",
       "  </tbody>\n",
       "</table>\n",
       "</div>"
      ],
      "text/plain": [
       "    ga:date ga:sessions ga:pageviews ga:users\n",
       "0  20230101        1000         3000      900\n",
       "1  20230102         950         2800      850"
      ]
     },
     "execution_count": 301,
     "metadata": {},
     "output_type": "execute_result"
    }
   ],
   "source": [
    "google_analytics_df"
   ]
  },
  {
   "cell_type": "code",
   "execution_count": 302,
   "metadata": {},
   "outputs": [
    {
     "data": {
      "text/html": [
       "<div>\n",
       "<style scoped>\n",
       "    .dataframe tbody tr th:only-of-type {\n",
       "        vertical-align: middle;\n",
       "    }\n",
       "\n",
       "    .dataframe tbody tr th {\n",
       "        vertical-align: top;\n",
       "    }\n",
       "\n",
       "    .dataframe thead th {\n",
       "        text-align: right;\n",
       "    }\n",
       "</style>\n",
       "<table border=\"1\" class=\"dataframe\">\n",
       "  <thead>\n",
       "    <tr style=\"text-align: right;\">\n",
       "      <th></th>\n",
       "      <th>id</th>\n",
       "      <th>date_sent</th>\n",
       "      <th>emails_sent</th>\n",
       "      <th>opens</th>\n",
       "      <th>clicks</th>\n",
       "      <th>bounce</th>\n",
       "      <th>unsubscribe</th>\n",
       "    </tr>\n",
       "  </thead>\n",
       "  <tbody>\n",
       "    <tr>\n",
       "      <th>0</th>\n",
       "      <td>campaign_001</td>\n",
       "      <td>2023-01-01</td>\n",
       "      <td>5000</td>\n",
       "      <td>3500</td>\n",
       "      <td>1750</td>\n",
       "      <td>50</td>\n",
       "      <td>25</td>\n",
       "    </tr>\n",
       "    <tr>\n",
       "      <th>1</th>\n",
       "      <td>campaign_002</td>\n",
       "      <td>2023-01-02</td>\n",
       "      <td>4500</td>\n",
       "      <td>3200</td>\n",
       "      <td>1600</td>\n",
       "      <td>40</td>\n",
       "      <td>20</td>\n",
       "    </tr>\n",
       "  </tbody>\n",
       "</table>\n",
       "</div>"
      ],
      "text/plain": [
       "             id   date_sent  emails_sent  opens  clicks  bounce  unsubscribe\n",
       "0  campaign_001  2023-01-01         5000   3500    1750      50           25\n",
       "1  campaign_002  2023-01-02         4500   3200    1600      40           20"
      ]
     },
     "execution_count": 302,
     "metadata": {},
     "output_type": "execute_result"
    }
   ],
   "source": [
    "mailchimp_df"
   ]
  },
  {
   "cell_type": "markdown",
   "metadata": {},
   "source": [
    "## Create a unified dataset\n",
    "\n",
    "We will merge the dataframes into one, using the data field as a common filed. \n",
    "However, the date columns have slightly different names across the DataFrames. Before merging, we should standardize these names.\n",
    "Also, the data values in differents dataframes are not all in standard format, so we will convert all date columns to datetime objects for consistency."
   ]
  },
  {
   "cell_type": "markdown",
   "metadata": {},
   "source": [
    "### Standardize Date Column Names and Values"
   ]
  },
  {
   "cell_type": "code",
   "execution_count": 303,
   "metadata": {},
   "outputs": [],
   "source": [
    "facebook_df['date'] = pd.to_datetime(facebook_df['date'])\n",
    "google_ads_df['date'] = pd.to_datetime(google_ads_df['date'])\n",
    "mailchimp_df['date'] = pd.to_datetime(mailchimp_df['date_sent']).rename('date')\n",
    "google_analytics_df['date'] = pd.to_datetime(google_analytics_df['ga:date'], format='%Y%m%d').rename('date')\n",
    "google_analytics_df.drop(columns='ga:date', inplace=True)\n"
   ]
  },
  {
   "cell_type": "code",
   "execution_count": 304,
   "metadata": {},
   "outputs": [
    {
     "data": {
      "text/html": [
       "<div>\n",
       "<style scoped>\n",
       "    .dataframe tbody tr th:only-of-type {\n",
       "        vertical-align: middle;\n",
       "    }\n",
       "\n",
       "    .dataframe tbody tr th {\n",
       "        vertical-align: top;\n",
       "    }\n",
       "\n",
       "    .dataframe thead th {\n",
       "        text-align: right;\n",
       "    }\n",
       "</style>\n",
       "<table border=\"1\" class=\"dataframe\">\n",
       "  <thead>\n",
       "    <tr style=\"text-align: right;\">\n",
       "      <th></th>\n",
       "      <th>date</th>\n",
       "      <th>page_id</th>\n",
       "      <th>post_impressions</th>\n",
       "      <th>post_reach</th>\n",
       "      <th>likes</th>\n",
       "      <th>comments</th>\n",
       "      <th>shares</th>\n",
       "      <th>campaignId</th>\n",
       "      <th>impressions</th>\n",
       "      <th>clicks</th>\n",
       "      <th>...</th>\n",
       "      <th>ga:sessions</th>\n",
       "      <th>ga:pageviews</th>\n",
       "      <th>ga:users</th>\n",
       "      <th>id</th>\n",
       "      <th>date_sent</th>\n",
       "      <th>emails_sent</th>\n",
       "      <th>opens</th>\n",
       "      <th>clicks_mail</th>\n",
       "      <th>bounce</th>\n",
       "      <th>unsubscribe</th>\n",
       "    </tr>\n",
       "  </thead>\n",
       "  <tbody>\n",
       "    <tr>\n",
       "      <th>0</th>\n",
       "      <td>2023-01-01</td>\n",
       "      <td>123456789</td>\n",
       "      <td>10000.0</td>\n",
       "      <td>7500.0</td>\n",
       "      <td>1200.0</td>\n",
       "      <td>150.0</td>\n",
       "      <td>100.0</td>\n",
       "      <td>78910</td>\n",
       "      <td>12000</td>\n",
       "      <td>800</td>\n",
       "      <td>...</td>\n",
       "      <td>1000</td>\n",
       "      <td>3000</td>\n",
       "      <td>900</td>\n",
       "      <td>campaign_001</td>\n",
       "      <td>2023-01-01</td>\n",
       "      <td>5000.0</td>\n",
       "      <td>3500.0</td>\n",
       "      <td>1750.0</td>\n",
       "      <td>50.0</td>\n",
       "      <td>25.0</td>\n",
       "    </tr>\n",
       "    <tr>\n",
       "      <th>1</th>\n",
       "      <td>2023-01-02</td>\n",
       "      <td>123456789</td>\n",
       "      <td>9500.0</td>\n",
       "      <td>7000.0</td>\n",
       "      <td>1100.0</td>\n",
       "      <td>140.0</td>\n",
       "      <td>90.0</td>\n",
       "      <td>78911</td>\n",
       "      <td>11500</td>\n",
       "      <td>750</td>\n",
       "      <td>...</td>\n",
       "      <td>950</td>\n",
       "      <td>2800</td>\n",
       "      <td>850</td>\n",
       "      <td>campaign_002</td>\n",
       "      <td>2023-01-02</td>\n",
       "      <td>4500.0</td>\n",
       "      <td>3200.0</td>\n",
       "      <td>1600.0</td>\n",
       "      <td>40.0</td>\n",
       "      <td>20.0</td>\n",
       "    </tr>\n",
       "    <tr>\n",
       "      <th>2</th>\n",
       "      <td>2023-01-03</td>\n",
       "      <td>NaN</td>\n",
       "      <td>NaN</td>\n",
       "      <td>NaN</td>\n",
       "      <td>NaN</td>\n",
       "      <td>NaN</td>\n",
       "      <td>NaN</td>\n",
       "      <td>78912</td>\n",
       "      <td>10000</td>\n",
       "      <td>600</td>\n",
       "      <td>...</td>\n",
       "      <td>NaN</td>\n",
       "      <td>NaN</td>\n",
       "      <td>NaN</td>\n",
       "      <td>NaN</td>\n",
       "      <td>NaN</td>\n",
       "      <td>NaN</td>\n",
       "      <td>NaN</td>\n",
       "      <td>NaN</td>\n",
       "      <td>NaN</td>\n",
       "      <td>NaN</td>\n",
       "    </tr>\n",
       "  </tbody>\n",
       "</table>\n",
       "<p>3 rows × 22 columns</p>\n",
       "</div>"
      ],
      "text/plain": [
       "        date    page_id  post_impressions  post_reach   likes  comments  \\\n",
       "0 2023-01-01  123456789           10000.0      7500.0  1200.0     150.0   \n",
       "1 2023-01-02  123456789            9500.0      7000.0  1100.0     140.0   \n",
       "2 2023-01-03        NaN               NaN         NaN     NaN       NaN   \n",
       "\n",
       "   shares campaignId  impressions clicks  ...  ga:sessions  ga:pageviews  \\\n",
       "0   100.0      78910        12000    800  ...         1000          3000   \n",
       "1    90.0      78911        11500    750  ...          950          2800   \n",
       "2     NaN      78912        10000    600  ...          NaN           NaN   \n",
       "\n",
       "  ga:users            id   date_sent emails_sent   opens  clicks_mail  bounce  \\\n",
       "0      900  campaign_001  2023-01-01      5000.0  3500.0       1750.0    50.0   \n",
       "1      850  campaign_002  2023-01-02      4500.0  3200.0       1600.0    40.0   \n",
       "2      NaN           NaN         NaN         NaN     NaN          NaN     NaN   \n",
       "\n",
       "   unsubscribe  \n",
       "0         25.0  \n",
       "1         20.0  \n",
       "2          NaN  \n",
       "\n",
       "[3 rows x 22 columns]"
      ]
     },
     "execution_count": 304,
     "metadata": {},
     "output_type": "execute_result"
    }
   ],
   "source": [
    "# Merge Facebook and Google Ads data\n",
    "merged_df = pd.merge(facebook_df, google_ads_df, on='date', how='outer', suffixes=('_fb', '_ga'))\n",
    "\n",
    "# Merge with Google Analytics data\n",
    "merged_df = pd.merge(merged_df, google_analytics_df, on='date', how='outer')\n",
    "\n",
    "# Finally, merge with Mailchimp data\n",
    "merged_df = pd.merge(merged_df, mailchimp_df, on='date', how='outer', suffixes=('', '_mail'))\n",
    "merged_df"
   ]
  },
  {
   "cell_type": "markdown",
   "metadata": {},
   "source": [
    "### Drop irrelevant columns\n",
    "\n",
    "Next columns: 'page_id', 'campaignId', 'ga:date', 'date_sent', 'id' are irrelevent to our analysis and we will drop them in order to improve clarity, readability and performance.\n",
    "\n",
    "We will use df.drop() method, passing errors='ignore' to ensure that no error is raised if any of the specified columns do not exist in merged_df."
   ]
  },
  {
   "cell_type": "code",
   "execution_count": 305,
   "metadata": {},
   "outputs": [
    {
     "name": "stdout",
     "output_type": "stream",
     "text": [
      "        date  post_impressions  post_reach   likes  comments  shares  \\\n",
      "0 2023-01-01           10000.0      7500.0  1200.0     150.0   100.0   \n",
      "1 2023-01-02            9500.0      7000.0  1100.0     140.0    90.0   \n",
      "2 2023-01-03               NaN         NaN     NaN       NaN     NaN   \n",
      "\n",
      "   impressions clicks   cost  conversions ga:sessions ga:pageviews ga:users  \\\n",
      "0        12000    800  600.0           80        1000         3000      900   \n",
      "1        11500    750  580.0           75         950         2800      850   \n",
      "2        10000    600  500.0           70         NaN          NaN      NaN   \n",
      "\n",
      "   emails_sent   opens  clicks_mail  bounce  unsubscribe  \n",
      "0       5000.0  3500.0       1750.0    50.0         25.0  \n",
      "1       4500.0  3200.0       1600.0    40.0         20.0  \n",
      "2          NaN     NaN          NaN     NaN          NaN  \n"
     ]
    }
   ],
   "source": [
    "# List of columns to drop\n",
    "columns_to_drop = ['page_id', 'campaignId', 'ga:date', 'date_sent', 'id']\n",
    "\n",
    "# Drop the columns\n",
    "merged_df = merged_df.drop(columns=columns_to_drop, errors='ignore')\n",
    "print(merged_df)\n"
   ]
  },
  {
   "cell_type": "markdown",
   "metadata": {},
   "source": [
    "### Rename columns\n",
    "\n",
    "To improve clarity we will remove the 'gs:' prefix in column names."
   ]
  },
  {
   "cell_type": "code",
   "execution_count": 306,
   "metadata": {},
   "outputs": [],
   "source": [
    "merged_df.rename(lambda cn:cn.replace('ga:', ''), axis=1, inplace=True)"
   ]
  },
  {
   "cell_type": "markdown",
   "metadata": {},
   "source": [
    "## Data Cleaning\n",
    "\n",
    "### Convert to appropriate data types\n",
    "\n",
    "Let's get some info at our merged data"
   ]
  },
  {
   "cell_type": "code",
   "execution_count": 307,
   "metadata": {},
   "outputs": [
    {
     "name": "stdout",
     "output_type": "stream",
     "text": [
      "<class 'pandas.core.frame.DataFrame'>\n",
      "RangeIndex: 3 entries, 0 to 2\n",
      "Data columns (total 18 columns):\n",
      " #   Column            Non-Null Count  Dtype         \n",
      "---  ------            --------------  -----         \n",
      " 0   date              3 non-null      datetime64[ns]\n",
      " 1   post_impressions  2 non-null      float64       \n",
      " 2   post_reach        2 non-null      float64       \n",
      " 3   likes             2 non-null      float64       \n",
      " 4   comments          2 non-null      float64       \n",
      " 5   shares            2 non-null      float64       \n",
      " 6   impressions       3 non-null      int64         \n",
      " 7   clicks            3 non-null      object        \n",
      " 8   cost              3 non-null      float64       \n",
      " 9   conversions       3 non-null      int64         \n",
      " 10  sessions          2 non-null      object        \n",
      " 11  pageviews         2 non-null      object        \n",
      " 12  users             2 non-null      object        \n",
      " 13  emails_sent       2 non-null      float64       \n",
      " 14  opens             2 non-null      float64       \n",
      " 15  clicks_mail       2 non-null      float64       \n",
      " 16  bounce            2 non-null      float64       \n",
      " 17  unsubscribe       2 non-null      float64       \n",
      "dtypes: datetime64[ns](1), float64(11), int64(2), object(4)\n",
      "memory usage: 564.0+ bytes\n"
     ]
    }
   ],
   "source": [
    "merged_df.info()"
   ]
  },
  {
   "cell_type": "markdown",
   "metadata": {},
   "source": [
    "We notice that columns: 'clicks', 'sessions', 'pageviews' and 'users' are of object data type, but we know that they represent integers. So we will convert these columns to numerical data type, as this will inrease performance, functionality and memory usage."
   ]
  },
  {
   "cell_type": "code",
   "execution_count": 308,
   "metadata": {},
   "outputs": [
    {
     "name": "stdout",
     "output_type": "stream",
     "text": [
      "<class 'pandas.core.frame.DataFrame'>\n",
      "RangeIndex: 3 entries, 0 to 2\n",
      "Data columns (total 18 columns):\n",
      " #   Column            Non-Null Count  Dtype         \n",
      "---  ------            --------------  -----         \n",
      " 0   date              3 non-null      datetime64[ns]\n",
      " 1   post_impressions  2 non-null      float64       \n",
      " 2   post_reach        2 non-null      float64       \n",
      " 3   likes             2 non-null      float64       \n",
      " 4   comments          2 non-null      float64       \n",
      " 5   shares            2 non-null      float64       \n",
      " 6   impressions       3 non-null      int64         \n",
      " 7   clicks            3 non-null      int64         \n",
      " 8   cost              3 non-null      float64       \n",
      " 9   conversions       3 non-null      int64         \n",
      " 10  sessions          2 non-null      float64       \n",
      " 11  pageviews         2 non-null      float64       \n",
      " 12  users             2 non-null      float64       \n",
      " 13  emails_sent       2 non-null      float64       \n",
      " 14  opens             2 non-null      float64       \n",
      " 15  clicks_mail       2 non-null      float64       \n",
      " 16  bounce            2 non-null      float64       \n",
      " 17  unsubscribe       2 non-null      float64       \n",
      "dtypes: datetime64[ns](1), float64(14), int64(3)\n",
      "memory usage: 564.0 bytes\n"
     ]
    }
   ],
   "source": [
    "# List of columns that should be numeric but are currently objects\n",
    "columns_to_convert = ['clicks', 'sessions', 'pageviews', 'users']\n",
    "\n",
    "# Convert these columns to numeric, coercing any errors (which will result in NaN values for non-convertible entries)\n",
    "for col in columns_to_convert:\n",
    "    merged_df[col] = pd.to_numeric(merged_df[col], errors='coerce')\n",
    "\n",
    "merged_df.info()"
   ]
  },
  {
   "cell_type": "markdown",
   "metadata": {},
   "source": [
    "### Handle NaN Values\n",
    "\n",
    "We will replace NaN values with 0, to indicate that there were no activity on given channel for this period."
   ]
  },
  {
   "cell_type": "code",
   "execution_count": 309,
   "metadata": {},
   "outputs": [],
   "source": [
    "merged_df.fillna(0, inplace=True)"
   ]
  },
  {
   "cell_type": "code",
   "execution_count": 310,
   "metadata": {},
   "outputs": [
    {
     "name": "stdout",
     "output_type": "stream",
     "text": [
      "        date  post_impressions  post_reach   likes  comments  shares  \\\n",
      "0 2023-01-01           10000.0      7500.0  1200.0     150.0   100.0   \n",
      "1 2023-01-02            9500.0      7000.0  1100.0     140.0    90.0   \n",
      "2 2023-01-03               0.0         0.0     0.0       0.0     0.0   \n",
      "\n",
      "   impressions  clicks   cost  conversions  sessions  pageviews  users  \\\n",
      "0        12000     800  600.0           80    1000.0     3000.0  900.0   \n",
      "1        11500     750  580.0           75     950.0     2800.0  850.0   \n",
      "2        10000     600  500.0           70       0.0        0.0    0.0   \n",
      "\n",
      "   emails_sent   opens  clicks_mail  bounce  unsubscribe  \n",
      "0       5000.0  3500.0       1750.0    50.0         25.0  \n",
      "1       4500.0  3200.0       1600.0    40.0         20.0  \n",
      "2          0.0     0.0          0.0     0.0          0.0  \n"
     ]
    }
   ],
   "source": [
    "# print(merged_df)\n",
    "print(merged_df)"
   ]
  },
  {
   "cell_type": "markdown",
   "metadata": {},
   "source": [
    "## Analyse data\n",
    "\n",
    "\n",
    "### Plot the data to observe trends and patterns for key metrics"
   ]
  },
  {
   "cell_type": "code",
   "execution_count": 311,
   "metadata": {},
   "outputs": [
    {
     "data": {
      "image/png": "[encoded data removed]",
      "text/plain": [
       "<Figure size 800x600 with 4 Axes>"
      ]
     },
     "metadata": {},
     "output_type": "display_data"
    }
   ],
   "source": [
    "import matplotlib.pyplot as plt\n",
    "\n",
    "# set 'date' column as index in order to plot the data\n",
    "merged_df.set_index('date', inplace=True)\n",
    "merged_df[['post_impressions', 'clicks', 'pageviews', 'opens']].plot(subplots=True, figsize=(8, 6))\n",
    "plt.show()"
   ]
  },
  {
   "cell_type": "markdown",
   "metadata": {},
   "source": [
    "### Channel Performance: How each marketing channel (social media, paid search, website traffic, email campaigns) contributes to overall marketing goals.\n",
    "ROI Analysis: The return on investment (ROI) for paid channels (like paid search) by comparing costs against conversions and revenue (if revenue data can be inferred or is available).\n",
    "Engagement Trends: How engagement metrics (likes, comments, shares, page views, session duration, email opens, etc.) trend over time and correlate with other activities or campaigns.\n",
    "Conversion Rates: Conversion rates from each channel and how they vary over time.\n"
   ]
  },
  {
   "cell_type": "markdown",
   "metadata": {},
   "source": [
    "### Calculate KPIs\n",
    "\n",
    "\n",
    "#### Social Media Engagement Rate: \n",
    "\n",
    "This KPI measures the level of engagement that social media content receives from the audience. It is calculated by summing up the likes, comments, and shares for posts and dividing this sum by the total post reach. This rate provides insight into how effectively social media content is engaging the target audience, with higher rates indicating more engaging content.\n",
    "\n",
    "#### Paid Search Conversion Rate: \n",
    "\n",
    "This KPI evaluates the effectiveness of paid search campaigns in converting clicks into desired actions, such as purchases or sign-ups. It is calculated by dividing the number of conversions by the total number of clicks received by the paid search ads. A higher conversion rate suggests that the paid search campaigns are successfully persuading users to take the desired action after clicking an ad.\n",
    "\n",
    "#### Email Open Rate: \n",
    "This KPI assesses the performance of email marketing campaigns by measuring the proportion of sent emails that are opened by recipients. It is calculated by dividing the number of opens by the total number of emails sent. This rate helps in understanding the initial interest level of recipients towards the email content, with a higher open rate indicating that the emails are likely well-tailored to the audience or have compelling subject lines that encourage opening."
   ]
  },
  {
   "cell_type": "code",
   "execution_count": 312,
   "metadata": {},
   "outputs": [
    {
     "data": {
      "text/html": [
       "<div>\n",
       "<style scoped>\n",
       "    .dataframe tbody tr th:only-of-type {\n",
       "        vertical-align: middle;\n",
       "    }\n",
       "\n",
       "    .dataframe tbody tr th {\n",
       "        vertical-align: top;\n",
       "    }\n",
       "\n",
       "    .dataframe thead th {\n",
       "        text-align: right;\n",
       "    }\n",
       "</style>\n",
       "<table border=\"1\" class=\"dataframe\">\n",
       "  <thead>\n",
       "    <tr style=\"text-align: right;\">\n",
       "      <th></th>\n",
       "      <th>post_impressions</th>\n",
       "      <th>post_reach</th>\n",
       "      <th>likes</th>\n",
       "      <th>comments</th>\n",
       "      <th>shares</th>\n",
       "      <th>impressions</th>\n",
       "      <th>clicks</th>\n",
       "      <th>cost</th>\n",
       "      <th>conversions</th>\n",
       "      <th>sessions</th>\n",
       "      <th>pageviews</th>\n",
       "      <th>users</th>\n",
       "      <th>emails_sent</th>\n",
       "      <th>opens</th>\n",
       "      <th>clicks_mail</th>\n",
       "      <th>bounce</th>\n",
       "      <th>unsubscribe</th>\n",
       "    </tr>\n",
       "    <tr>\n",
       "      <th>date</th>\n",
       "      <th></th>\n",
       "      <th></th>\n",
       "      <th></th>\n",
       "      <th></th>\n",
       "      <th></th>\n",
       "      <th></th>\n",
       "      <th></th>\n",
       "      <th></th>\n",
       "      <th></th>\n",
       "      <th></th>\n",
       "      <th></th>\n",
       "      <th></th>\n",
       "      <th></th>\n",
       "      <th></th>\n",
       "      <th></th>\n",
       "      <th></th>\n",
       "      <th></th>\n",
       "    </tr>\n",
       "  </thead>\n",
       "  <tbody>\n",
       "    <tr>\n",
       "      <th>2023-01-01</th>\n",
       "      <td>10000.0</td>\n",
       "      <td>7500.0</td>\n",
       "      <td>1200.0</td>\n",
       "      <td>150.0</td>\n",
       "      <td>100.0</td>\n",
       "      <td>12000</td>\n",
       "      <td>800</td>\n",
       "      <td>600.0</td>\n",
       "      <td>80</td>\n",
       "      <td>1000.0</td>\n",
       "      <td>3000.0</td>\n",
       "      <td>900.0</td>\n",
       "      <td>5000.0</td>\n",
       "      <td>3500.0</td>\n",
       "      <td>1750.0</td>\n",
       "      <td>50.0</td>\n",
       "      <td>25.0</td>\n",
       "    </tr>\n",
       "    <tr>\n",
       "      <th>2023-01-02</th>\n",
       "      <td>9500.0</td>\n",
       "      <td>7000.0</td>\n",
       "      <td>1100.0</td>\n",
       "      <td>140.0</td>\n",
       "      <td>90.0</td>\n",
       "      <td>11500</td>\n",
       "      <td>750</td>\n",
       "      <td>580.0</td>\n",
       "      <td>75</td>\n",
       "      <td>950.0</td>\n",
       "      <td>2800.0</td>\n",
       "      <td>850.0</td>\n",
       "      <td>4500.0</td>\n",
       "      <td>3200.0</td>\n",
       "      <td>1600.0</td>\n",
       "      <td>40.0</td>\n",
       "      <td>20.0</td>\n",
       "    </tr>\n",
       "    <tr>\n",
       "      <th>2023-01-03</th>\n",
       "      <td>0.0</td>\n",
       "      <td>0.0</td>\n",
       "      <td>0.0</td>\n",
       "      <td>0.0</td>\n",
       "      <td>0.0</td>\n",
       "      <td>10000</td>\n",
       "      <td>600</td>\n",
       "      <td>500.0</td>\n",
       "      <td>70</td>\n",
       "      <td>0.0</td>\n",
       "      <td>0.0</td>\n",
       "      <td>0.0</td>\n",
       "      <td>0.0</td>\n",
       "      <td>0.0</td>\n",
       "      <td>0.0</td>\n",
       "      <td>0.0</td>\n",
       "      <td>0.0</td>\n",
       "    </tr>\n",
       "  </tbody>\n",
       "</table>\n",
       "</div>"
      ],
      "text/plain": [
       "            post_impressions  post_reach   likes  comments  shares  \\\n",
       "date                                                                 \n",
       "2023-01-01           10000.0      7500.0  1200.0     150.0   100.0   \n",
       "2023-01-02            9500.0      7000.0  1100.0     140.0    90.0   \n",
       "2023-01-03               0.0         0.0     0.0       0.0     0.0   \n",
       "\n",
       "            impressions  clicks   cost  conversions  sessions  pageviews  \\\n",
       "date                                                                       \n",
       "2023-01-01        12000     800  600.0           80    1000.0     3000.0   \n",
       "2023-01-02        11500     750  580.0           75     950.0     2800.0   \n",
       "2023-01-03        10000     600  500.0           70       0.0        0.0   \n",
       "\n",
       "            users  emails_sent   opens  clicks_mail  bounce  unsubscribe  \n",
       "date                                                                      \n",
       "2023-01-01  900.0       5000.0  3500.0       1750.0    50.0         25.0  \n",
       "2023-01-02  850.0       4500.0  3200.0       1600.0    40.0         20.0  \n",
       "2023-01-03    0.0          0.0     0.0          0.0     0.0          0.0  "
      ]
     },
     "execution_count": 312,
     "metadata": {},
     "output_type": "execute_result"
    }
   ],
   "source": [
    "merged_df"
   ]
  },
  {
   "cell_type": "code",
   "execution_count": 315,
   "metadata": {},
   "outputs": [
    {
     "data": {
      "text/html": [
       "<div>\n",
       "<style scoped>\n",
       "    .dataframe tbody tr th:only-of-type {\n",
       "        vertical-align: middle;\n",
       "    }\n",
       "\n",
       "    .dataframe tbody tr th {\n",
       "        vertical-align: top;\n",
       "    }\n",
       "\n",
       "    .dataframe thead th {\n",
       "        text-align: right;\n",
       "    }\n",
       "</style>\n",
       "<table border=\"1\" class=\"dataframe\">\n",
       "  <thead>\n",
       "    <tr style=\"text-align: right;\">\n",
       "      <th></th>\n",
       "      <th>social_media_engagement_rate</th>\n",
       "      <th>paid_search_conversion_rate</th>\n",
       "      <th>email_open_rate</th>\n",
       "    </tr>\n",
       "    <tr>\n",
       "      <th>date</th>\n",
       "      <th></th>\n",
       "      <th></th>\n",
       "      <th></th>\n",
       "    </tr>\n",
       "  </thead>\n",
       "  <tbody>\n",
       "    <tr>\n",
       "      <th>2023-01-01</th>\n",
       "      <td>0.193333</td>\n",
       "      <td>0.100000</td>\n",
       "      <td>0.700000</td>\n",
       "    </tr>\n",
       "    <tr>\n",
       "      <th>2023-01-02</th>\n",
       "      <td>0.190000</td>\n",
       "      <td>0.100000</td>\n",
       "      <td>0.711111</td>\n",
       "    </tr>\n",
       "    <tr>\n",
       "      <th>2023-01-03</th>\n",
       "      <td>NaN</td>\n",
       "      <td>0.116667</td>\n",
       "      <td>NaN</td>\n",
       "    </tr>\n",
       "  </tbody>\n",
       "</table>\n",
       "</div>"
      ],
      "text/plain": [
       "            social_media_engagement_rate  paid_search_conversion_rate  \\\n",
       "date                                                                    \n",
       "2023-01-01                      0.193333                     0.100000   \n",
       "2023-01-02                      0.190000                     0.100000   \n",
       "2023-01-03                           NaN                     0.116667   \n",
       "\n",
       "            email_open_rate  \n",
       "date                         \n",
       "2023-01-01         0.700000  \n",
       "2023-01-02         0.711111  \n",
       "2023-01-03              NaN  "
      ]
     },
     "execution_count": 315,
     "metadata": {},
     "output_type": "execute_result"
    }
   ],
   "source": [
    "# calculate KPIs and store them in a new DF\n",
    "kpi_data = {\n",
    "    'social_media_engagement_rate': (merged_df['likes'] + merged_df['comments'] + merged_df['shares']) / merged_df['post_reach'],\n",
    "    'paid_search_conversion_rate': merged_df['conversions'] / merged_df['clicks'],\n",
    "    'email_open_rate': merged_df['opens'] / merged_df['emails_sent'],\n",
    "}\n",
    "kpi_df = pd.DataFrame(kpi_data)\n",
    "kpi_df"
   ]
  },
  {
   "cell_type": "code",
   "execution_count": 288,
   "metadata": {},
   "outputs": [
    {
     "data": {
      "image/png": "[encoded data removed]",
      "text/plain": [
       "<Figure size 800x400 with 1 Axes>"
      ]
     },
     "metadata": {},
     "output_type": "display_data"
    }
   ],
   "source": [
    "kpi_df.mean().plot(kind='bar', figsize=(8, 4))\n",
    "plt.title('Average KPIs Across Marketing Channels')\n",
    "plt.ylabel('Average KPI Value')\n",
    "plt.xlabel('Channel')\n",
    "plt.xticks(rotation=10)\n",
    "plt.show()"
   ]
  },
  {
   "cell_type": "code",
   "execution_count": null,
   "metadata": {},
   "outputs": [],
   "source": []
  }
 ],
 "metadata": {
  "kernelspec": {
   "display_name": ".venv",
   "language": "python",
   "name": "python3"
  },
  "language_info": {
   "codemirror_mode": {
    "name": "ipython",
    "version": 3
   },
   "file_extension": ".py",
   "mimetype": "text/x-python",
   "name": "python",
   "nbconvert_exporter": "python",
   "pygments_lexer": "ipython3",
   "version": "3.12.0"
  }
 },
 "nbformat": 4,
 "nbformat_minor": 2
}
