{
 "cells": [
  {
   "cell_type": "code",
   "execution_count": 1,
   "metadata": {},
   "outputs": [],
   "source": [
    "import pandas as pd\n",
    "import numpy as np"
   ]
  },
  {
   "cell_type": "markdown",
   "metadata": {},
   "source": [
    "## Example: Integrating campaign data with custom KPIs\n",
    "\n",
    "Your company runs marketing campaigns across Google Ads and Facebook Ads. You want to analyze campaign performance in AnalyticalSystem, but you also track a custom KPI(Key Performance Indicator): \"Return on Ad Spend (ROAS)\". This KPI requires additional calculations based on data from your internal sales database.\n",
    "\n",
    "Write Python script that automates the data integration process, ensuring consistent data format and calculation of the custom ROAS metric.\n",
    "\n",
    "### Steps:\n",
    "\n",
    "1. Develop a Python Script:\n",
    "We'll create a Python script that retrieves data from both marketing platforms and your sales database, performs necessary transformations, and prepares the data for AnalyticalSystem import.\n",
    "\n",
    "2. Data Retrieval and Mapping:\n",
    "Use requests library to call the Google Ads and Facebook Ads APIs to retrieve campaign data (dates, impressions, clicks, etc.).\n",
    "Implement separate functions for each platform's API interaction, potentially using pre-built libraries or AnalyticalSystem's connectors.\n",
    "Define dictionary mappings to translate platform-specific field names (e.g., \"cost\" vs. \"spend\") to consistent names used in AnalyticalSystem.\n",
    "Apply these mappings to the retrieved data using Pandas functions like rename.\n",
    "\n",
    "3. Calculating ROAS:\n",
    "Access your internal sales database using libraries like SQLAlchemy (assuming a SQL database) to retrieve relevant sales data for the campaign period.\n",
    "Calculate total revenue for each campaign based on the sales data.\n",
    "Use Pandas functions to create a new column named \"ROAS\" in the dataframe. Apply a custom function to calculate ROAS for each campaign using the formula: ROAS = Total Revenue / Total Ad Spend (where Total Ad Spend is retrieved from the marketing platforms).\n",
    "\n",
    "4. Handling Missing Data and Inconsistencies:\n",
    "Utilize Pandas functions like isna to identify missing values in any retrieved data.\n",
    "Implement logic to handle missing values (e.g., impute average values for specific fields or remove rows with too many missing entries).\n",
    "Check for data inconsistencies (e.g., mismatched campaign names) across platforms and potentially apply corrections using string manipulation functions in Python.\n",
    "\n",
    "5. Preparing for AnalyticalSystem Import:\n",
    "Define a final mapping dictionary to match the transformed data columns (including the newly created ROAS column) to their corresponding fields within AnalyticalSystem.\n",
    "Use Pandas functions like to_csv to export the final dataframe to a CSV file in a format suitable for AnalyticalSystem import."
   ]
  },
  {
   "cell_type": "code",
   "execution_count": 2,
   "metadata": {},
   "outputs": [
    {
     "name": "stdout",
     "output_type": "stream",
     "text": [
      "Data transformation and mapping complete. 'all_campaigns_data.csv' is ready for import into AnalyticalSystem.\n"
     ]
    }
   ],
   "source": [
    "import pandas as pd\n",
    "import requests  # For API calls (replace with relevant libraries for your data sources)\n",
    "\n",
    "# Define empty DataFrames to store data from each platform\n",
    "google_ads_data = pd.DataFrame()\n",
    "facebook_ads_data = pd.DataFrame()\n",
    "\n",
    "# Function to retrieve and map data from Google Ads (replace with actual API call logic)\n",
    "def get_google_ads_data():\n",
    "  global google_ads_data\n",
    "  # Simulate API call and data retrieval\n",
    "  data = {'campaign': ['Campaign A', 'Campaign B'],\n",
    "          'impressions': [1000, 2000],\n",
    "          'clicks': [50, 100],\n",
    "          'cost': [100, 200]}\n",
    "  google_ads_data = pd.DataFrame(data)\n",
    "  # Apply mapping for consistent field names\n",
    "  google_ads_data = google_ads_data.rename(columns={'cost': 'spend'})\n",
    "  return google_ads_data\n",
    "\n",
    "# Function to retrieve and map data from Facebook Ads (replace with actual API call logic)\n",
    "def get_facebook_ads_data():\n",
    "  global facebook_ads_data\n",
    "  # Simulate API call and data retrieval\n",
    "  data = {'name': ['Campaign X', 'Campaign Y'],\n",
    "          'impressions': [1500, 2500],\n",
    "          'clicks': [75, 125],\n",
    "          'spend': [150, 250]}\n",
    "  facebook_ads_data = pd.DataFrame(data)\n",
    "  # Apply mapping for consistent field names\n",
    "  facebook_ads_data = facebook_ads_data.rename(columns={'name': 'campaign'})\n",
    "  return facebook_ads_data\n",
    "\n",
    "# Retrieve data from both platforms\n",
    "get_google_ads_data()\n",
    "get_facebook_ads_data\n",
    "\n",
    "# Combine data from both sources (assuming common 'campaign' name for merging)\n",
    "all_campaigns_data = pd.concat([google_ads_data, facebook_ads_data], ignore_index=True)\n",
    "\n",
    "# Simulate retrieving sales data (replace with your database interaction logic)\n",
    "sales_data = {'campaign': ['Campaign A', 'Campaign B', 'Campaign X', 'Campaign Y'],\n",
    "              'revenue': [5000, 10000, 7000, 12000]}\n",
    "sales_df = pd.DataFrame(sales_data)\n",
    "\n",
    "# Calculate ROAS (assuming 'spend' column includes total ad spend)\n",
    "all_campaigns_data['ROAS'] = sales_df[sales_df['campaign'].isin(all_campaigns_data['campaign'])]['revenue'] / all_campaigns_data['spend']\n",
    "\n",
    "# Handle missing values (replace with your chosen strategy)\n",
    "all_campaigns_data.fillna(0, inplace=True)  # Replace with appropriate imputation strategy\n",
    "\n",
    "# Define mapping for AnalyticalSystem import (adjust field names based on AnalyticalSystem)\n",
    "AnalyticalSystem_mapping = {'campaign': 'Campaign Name',\n",
    "                    'impressions': 'Impressions',\n",
    "                    'clicks': 'Clicks',\n",
    "                    'spend': 'Total Ad Spend',\n",
    "                    'ROAS': 'Return On Ad Spend'}\n",
    "\n",
    "# Apply mapping to column names\n",
    "all_campaigns_data = all_campaigns_data.rename(columns=AnalyticalSystem_mapping)\n",
    "\n",
    "# Prepare data for AnalyticalSystem import (replace with your preferred export method)\n",
    "all_campaigns_data.to_csv('all_campaigns_data.csv', index=False)\n",
    "\n",
    "print(\"Data transformation and mapping complete. 'all_campaigns_data.csv' is ready for import into AnalyticalSystem.\")\n"
   ]
  },
  {
   "cell_type": "code",
   "execution_count": null,
   "metadata": {},
   "outputs": [],
   "source": []
  }
 ],
 "metadata": {
  "kernelspec": {
   "display_name": ".venv",
   "language": "python",
   "name": "python3"
  },
  "language_info": {
   "codemirror_mode": {
    "name": "ipython",
    "version": 3
   },
   "file_extension": ".py",
   "mimetype": "text/x-python",
   "name": "python",
   "nbconvert_exporter": "python",
   "pygments_lexer": "ipython3",
   "version": "3.12.0"
  }
 },
 "nbformat": 4,
 "nbformat_minor": 2
}
